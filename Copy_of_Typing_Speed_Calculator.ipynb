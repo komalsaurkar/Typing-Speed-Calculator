{
  "nbformat": 4,
  "nbformat_minor": 0,
  "metadata": {
    "colab": {
      "provenance": []
    },
    "kernelspec": {
      "name": "python3",
      "display_name": "Python 3"
    },
    "language_info": {
      "name": "python"
    }
  },
  "cells": [
    {
      "cell_type": "code",
      "execution_count": null,
      "metadata": {
        "id": "ijlq-X8Id79W"
      },
      "outputs": [],
      "source": [
        "import time\n",
        "import random\n",
        "import sys"
      ]
    },
    {
      "cell_type": "code",
      "source": [
        "def calculate_wpm(start_time, end_time, typed_text, reference_text):\n",
        "    words_typed = len(typed_text.split())\n",
        "    time_taken = (end_time - start_time) / 60  # Convert seconds to minutes\n",
        "    wpm = words_typed / time_taken if time_taken > 0 else 0\n",
        "    return round(wpm, 2)\n",
        "\n"
      ],
      "metadata": {
        "id": "SL2ZmN1Wfbdn"
      },
      "execution_count": null,
      "outputs": []
    },
    {
      "cell_type": "code",
      "source": [
        "def calculate_accuracy(typed_text, reference_text):\n",
        "    typed_words = typed_text.split()\n",
        "    reference_words = reference_text.split()\n",
        "    correct_words = sum(1 for tw, rw in zip(typed_words, reference_words) if tw == rw)\n",
        "    accuracy = (correct_words / len(reference_words)) * 100 if reference_words else 0\n",
        "    return round(accuracy, 2)\n",
        "\n"
      ],
      "metadata": {
        "id": "S4EYlR-yfg79"
      },
      "execution_count": null,
      "outputs": []
    },
    {
      "cell_type": "code",
      "source": [
        "def main():\n",
        "    sentences = [\n",
        "        \"The quick brown fox jumps over the lazy dog.\",\n",
        "        \"Typing speed is an important skill for programmers.\",\n",
        "        \"Practice makes perfect, keep typing fast and accurately.\"\n",
        "    ]\n",
        "    reference_text = random.choice(sentences)\n",
        "\n",
        "    print(\"\\nType the following sentence as fast and accurately as you can:\")\n",
        "    print(f\"\\n{reference_text}\\n\")\n",
        "\n",
        "    try:\n",
        "        input(\"Press Enter when you are ready to start... \")\n",
        "        start_time = time.time()\n",
        "\n",
        "        if sys.stdin.isatty():\n",
        "            typed_text = input(\"Start Typing: \")\n",
        "        else:\n",
        "            typed_text = sys.stdin.read().strip()\n",
        "\n",
        "        end_time = time.time()\n",
        "\n",
        "        wpm = calculate_wpm(start_time, end_time, typed_text, reference_text)\n",
        "        accuracy = calculate_accuracy(typed_text, reference_text)\n",
        "\n",
        "        print(f\"\\nTyping Speed: {wpm} WPM\")\n",
        "        print(f\"Accuracy: {accuracy}%\")\n",
        "\n",
        "        if wpm > 60:\n",
        "            print(\"Great job! You're a fast typist!\")\n",
        "        elif wpm > 30:\n",
        "            print(\"Good speed, but there's room for improvement!\")\n",
        "        else:\n",
        "            print(\"Keep practicing to increase your speed!\")\n",
        "    except Exception as e:\n",
        "        print(f\"An error occurred: {e}\")\n",
        "\n",
        "if __name__ == \"__main__\":\n",
        "    main()\n"
      ],
      "metadata": {
        "colab": {
          "base_uri": "https://localhost:8080/"
        },
        "id": "YvnGgJphfoMH",
        "outputId": "81df01a8-0340-4286-edb9-6294f4f100ad"
      },
      "execution_count": null,
      "outputs": [
        {
          "output_type": "stream",
          "name": "stdout",
          "text": [
            "\n",
            "Type the following sentence as fast and accurately as you can:\n",
            "\n",
            "Practice makes perfect, keep typing fast and accurately.\n",
            "\n",
            "Press Enter when you are ready to start... komal161523264\n",
            "\n",
            "Typing Speed: 0.0 WPM\n",
            "Accuracy: 0.0%\n",
            "Keep practicing to increase your speed!\n"
          ]
        }
      ]
    }
  ]
}